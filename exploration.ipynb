{
 "metadata": {
  "language_info": {
   "codemirror_mode": {
    "name": "ipython",
    "version": 3
   },
   "file_extension": ".py",
   "mimetype": "text/x-python",
   "name": "python",
   "nbconvert_exporter": "python",
   "pygments_lexer": "ipython3",
   "version": "3.8.5"
  },
  "orig_nbformat": 2,
  "kernelspec": {
   "name": "python3",
   "display_name": "Python 3.8.5 64-bit ('venv': venv)",
   "metadata": {
    "interpreter": {
     "hash": "f0d41915977ab2fe58f6e21d3090f7c278ce5de63d5563f388022704352e641f"
    }
   }
  }
 },
 "nbformat": 4,
 "nbformat_minor": 2,
 "cells": [
  {
   "cell_type": "code",
   "execution_count": null,
   "metadata": {
    "tags": []
   },
   "outputs": [],
   "source": [
    "import emoji\n",
    "emoji_dict = emoji.unicode_codes.EMOJI_ALIAS_UNICODE_ENGLISH\n",
    "keys = iter(emoji_dict.keys())\n",
    "for key, value in reversed(emoji_dict.items()):\n",
    "    print(key.replace('_', ' '), value)\n",
    "    inp = input('')\n",
    "    if inp == 'b':\n",
    "        break"
   ]
  },
  {
   "cell_type": "code",
   "execution_count": 19,
   "metadata": {
    "tags": []
   },
   "outputs": [
    {
     "output_type": "stream",
     "name": "stdout",
     "text": [
      "Index(['emoji', 'name', 'group', 'sub_group', 'codepoints'], dtype='object')\n3295\n"
     ]
    }
   ],
   "source": [
    "import pandas as pd\n",
    "\n",
    "df = pd.read_csv('data/emojis/emoji_df.csv')\n",
    "emoji_vocab = set(df['name'].to_list())\n",
    "print(df.columns)\n",
    "print(len(emoji_vocab))\n"
   ]
  },
  {
   "cell_type": "code",
   "execution_count": null,
   "metadata": {},
   "outputs": [],
   "source": []
  }
 ]
}