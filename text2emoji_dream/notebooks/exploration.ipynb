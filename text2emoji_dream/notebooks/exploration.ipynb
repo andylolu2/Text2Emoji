{
 "cells": [
  {
   "cell_type": "code",
   "execution_count": 3,
   "metadata": {},
   "outputs": [],
   "source": [
    "\n",
    "%load_ext autoreload\n",
    "%autoreload 2"
   ]
  },
  {
   "cell_type": "code",
   "execution_count": 4,
   "metadata": {},
   "outputs": [
    {
     "name": "stdout",
     "output_type": "stream",
     "text": [
      "/home/andylo/Projects/Text2Emoji\n"
     ]
    }
   ],
   "source": [
    "import os, sys\n",
    "currDir = os.path.abspath('')\n",
    "rootDir = os.path.abspath(os.path.join(currDir, '../../'))\n",
    "print(rootDir)\n",
    "if rootDir not in sys.path: # add parent dir to paths\n",
    "    sys.path.append(rootDir)"
   ]
  },
  {
   "cell_type": "code",
   "execution_count": 115,
   "metadata": {},
   "outputs": [],
   "source": [
    "import re\n",
    "import os\n",
    "\n",
    "import pandas as pd\n",
    "import numpy as np\n",
    "from sklearn.feature_extraction.text import TfidfVectorizer\n",
    "\n",
    "from config import PrepConfig\n",
    "\n",
    "\n",
    "pd.set_option('display.max_rows', 100)\n",
    "pd.set_option('display.width', 1000)\n",
    "\n",
    "df = pd.read_csv(PrepConfig.PROJECT_ROOT + '/data/emojis/emoji_df.csv', usecols=['emoji', 'name'])\n",
    "original_len = len(df)\n",
    "emoji_vocab = set(df['name'].to_list())\n",
    "\n",
    "def clean_names(row):\n",
    "    t = row['name']\n",
    "    flag_re = r\"flag: (.*)\"\n",
    "    is_flag = re.match(flag_re, t)\n",
    "    if is_flag:\n",
    "        # remove flag prefixes\n",
    "        row['cleaned_name'] = is_flag[1]\n",
    "        return row\n",
    "    details_re = r\"(.*): (.*)\"\n",
    "    is_detailed = re.match(details_re, t)\n",
    "    if is_detailed:\n",
    "        # remove skin tone adjective\n",
    "        row['cleaned_name'] = is_detailed[1]\n",
    "        return row\n",
    "    row['cleaned_name'] = row['name']\n",
    "    return row\n",
    "\n",
    "\n",
    "df = df.apply(clean_names, axis=1)\\\n",
    "    .drop_duplicates(subset=['cleaned_name'], ignore_index=True)\n",
    "\n",
    "vectorizer = TfidfVectorizer(\n",
    "    # token_pattern=r\"(?u)\\b\\w\\w+\\b|[!?\\\"\\'@#$%^&*()\\[\\]]\"\n",
    ")\n",
    "# print(re.match(r\"(?u)\\b\\w\\w+\\b|[!?\\\"\\'@#$%^&*()\\[\\]]\", '#'))\n",
    "tfidf_scores = vectorizer.fit_transform(df['cleaned_name']).toarray()\n",
    "features_ids = np.argmax(tfidf_scores, axis=-1)\n",
    "features_scores = np.max(tfidf_scores, axis=-1)\n",
    "id_to_str = vectorizer.get_feature_names()\n",
    "\n",
    "# features = [(ids, id_to_str[i], score) for i, (ids, score) in enumerate(zip(features_ids, features_scores))]\n",
    "# df_features = pd.DataFrame(features, columns=['index', 'feature', 'tfidf_score'])\n",
    "# df_features['index'] = pd.to_numeric(df_features['index'])\n",
    "# df = df.merge(df_features, how='left', left_index=True, right_on='index')\n",
    "features = [id_to_str[ids] for ids in features_ids]\n",
    "df['feature'] = features\n",
    "df['tfidf_score'] = features_scores\n",
    "# df = df.sort_values('tfidf_score', ascending=False).drop_duplicates(['cleaned_name'])\n",
    "# print(df.sample(100))\n",
    "# print(len(df['name']))\n",
    "# print(tfidf_scores.shape)\n",
    "# print(features)\n",
    "# print(np.array([id_to_str[ids] for ids in features]))\n",
    "# print(vectorizer.get_feature_names())"
   ]
  },
  {
   "cell_type": "code",
   "execution_count": null,
   "metadata": {},
   "outputs": [],
   "source": [
    "from transformers import AutoTokenizer\n",
    "\n",
    "from config import PrepConfig\n",
    "\n",
    "tokenizer = AutoTokenizer.from_pretrained(PrepConfig.SENTENCE_TRANSFORMER_NAME)\n",
    "vocab_dict = tokenizer.get_vocab()"
   ]
  },
  {
   "cell_type": "code",
   "execution_count": 145,
   "metadata": {},
   "outputs": [
    {
     "data": {
      "image/png": "[encoded data removed]",
      "text/plain": "<Figure size 432x288 with 1 Axes>"
     },
     "metadata": {},
     "output_type": "display_data"
    },
    {
     "name": "stdout",
     "output_type": "stream",
     "text": [
      "1752\n",
      "1404\n",
      "     emoji   feature                                  name  tfidf_score\n",
      "1394     🌍    europe           globe showing Europe-Africa     0.534041\n",
      "1395     👆  backhand            backhand index pointing up     0.532960\n",
      "1396     📭   lowered        open mailbox with lowered flag     0.532215\n",
      "1397     🈚    charge      Japanese “free of charge” button     0.531678\n",
      "1398    🍽️     plate             fork and knife with plate     0.527892\n",
      "1399    🇭🇰      hong             flag: Hong Kong SAR China     0.517912\n",
      "1400     📬   mailbox         open mailbox with raised flag     0.511268\n",
      "1401    🇮🇴    indian  flag: British Indian Ocean Territory     0.506472\n",
      "1402     🈶       not  Japanese “not free of charge” button     0.484116\n",
      "1403     🤣     floor         rolling on the floor laughing     0.471373\n"
     ]
    }
   ],
   "source": [
    "\n",
    "import matplotlib.pyplot as plt\n",
    "\n",
    "from config import PrepConfig\n",
    "\n",
    "plt.style.use('dark_background')\n",
    "\n",
    "ax = df['tfidf_score'].plot.hist(bins=100, alpha=0.9, density=True)\n",
    "plt.show()\n",
    "print(len(df))\n",
    "# print(df['tfidf_score'].value_counts())\n",
    "filtered = df[df['feature'].isin(vocab_dict)]\n",
    "filtered = filtered.sort_values('tfidf_score', ascending=False).drop_duplicates(['feature']).reset_index(drop=True)\n",
    "print(len(filtered))\n",
    "print(filtered[['emoji', 'feature', 'name', 'tfidf_score']].tail(10))\n",
    "\n",
    "filtered.to_csv(PrepConfig.PROJECT_ROOT+'/processed_data/emoji_vocab_single.csv')"
   ]
  },
  {
   "cell_type": "code",
   "execution_count": 144,
   "metadata": {},
   "outputs": [
    {
     "data": {
      "text/plain": "<AxesSubplot:xlabel='valid', ylabel='tfidf_score'>"
     },
     "execution_count": 144,
     "metadata": {},
     "output_type": "execute_result"
    },
    {
     "data": {
      "image/png": "[encoded data removed]",
      "text/plain": "<Figure size 432x288 with 1 Axes>"
     },
     "metadata": {},
     "output_type": "display_data"
    }
   ],
   "source": [
    "filtered['valid'] = filtered['feature'].isin(vocab_dict).astype(int)\n",
    "filtered.plot.scatter(x='valid', y='tfidf_score')"
   ]
  },
  {
   "cell_type": "markdown",
   "metadata": {},
   "source": [
    "## Test dream model"
   ]
  },
  {
   "cell_type": "code",
   "execution_count": 1,
   "metadata": {},
   "outputs": [
    {
     "ename": "ModuleNotFoundError",
     "evalue": "No module named 'text2emoji_dream'",
     "output_type": "error",
     "traceback": [
      "\u001b[0;31m---------------------------------------------------------------------------\u001b[0m",
      "\u001b[0;31mModuleNotFoundError\u001b[0m                       Traceback (most recent call last)",
      "\u001b[0;32m<ipython-input-1-c1ca370bc006>\u001b[0m in \u001b[0;36m<module>\u001b[0;34m\u001b[0m\n\u001b[1;32m      4\u001b[0m \u001b[0;32mimport\u001b[0m \u001b[0mtransformers\u001b[0m\u001b[0;34m\u001b[0m\u001b[0;34m\u001b[0m\u001b[0m\n\u001b[1;32m      5\u001b[0m \u001b[0;34m\u001b[0m\u001b[0m\n\u001b[0;32m----> 6\u001b[0;31m \u001b[0;32mfrom\u001b[0m \u001b[0mtext2emoji_dream\u001b[0m\u001b[0;34m.\u001b[0m\u001b[0mclasses\u001b[0m\u001b[0;34m.\u001b[0m\u001b[0mText2EmojiDreamer\u001b[0m \u001b[0;32mimport\u001b[0m \u001b[0mText2EmojiDreamer\u001b[0m\u001b[0;34m\u001b[0m\u001b[0;34m\u001b[0m\u001b[0m\n\u001b[0m\u001b[1;32m      7\u001b[0m \u001b[0;32mfrom\u001b[0m \u001b[0mconfig\u001b[0m \u001b[0;32mimport\u001b[0m \u001b[0mDreamerConfig\u001b[0m\u001b[0;34m\u001b[0m\u001b[0;34m\u001b[0m\u001b[0m\n\u001b[1;32m      8\u001b[0m \u001b[0;34m\u001b[0m\u001b[0m\n",
      "\u001b[0;31mModuleNotFoundError\u001b[0m: No module named 'text2emoji_dream'"
     ]
    }
   ],
   "source": [
    "import numpy as np\n",
    "import pandas as pd\n",
    "import torch\n",
    "import transformers\n",
    "\n",
    "from text2emoji_dream.classes.Text2EmojiDreamer import Text2EmojiDreamer\n",
    "from config import DreamerConfig\n",
    "\n",
    "tokenizer = transformers.AutoTokenizer.from_pretrained(\n",
    "    DreamerConfig.SENTENCE_TRANSFORMER_NAME)\n",
    "model = Text2EmojiDreamer()"
   ]
  },
  {
   "cell_type": "code",
   "execution_count": 158,
   "metadata": {},
   "outputs": [
    {
     "name": "stdout",
     "output_type": "stream",
     "text": [
      "tensor([ 101, 5191, 3836,  102])\n",
      "torch.Size([4, 30522])\n",
      "position shape: torch.Size([4, 768])\n",
      "tensor([[ 0.3371, -0.1221, -0.2282,  ...,  0.1648,  0.0790,  0.1264],\n",
      "        [ 0.0841,  0.2840, -0.7944,  ...,  0.2766,  0.2766, -0.0253],\n",
      "        [-0.1646, -0.6213,  0.1091,  ..., -0.1302, -0.2593, -0.0200],\n",
      "        [-0.3929, -0.2464, -0.3519,  ..., -0.1387,  0.1298, -0.2353]])\n",
      "tensor(True)\n",
      "tensor(True)\n",
      "tensor(True)\n"
     ]
    }
   ],
   "source": [
    "text = \"worried teacher\"\n",
    "\n",
    "tokenized = tokenizer(text, return_tensors='pt')\n",
    "input_ids = tokenized.input_ids[0]\n",
    "one_hot = torch.zeros(input_ids.size(0), tokenizer.vocab_size)\n",
    "one_hot[torch.arange(input_ids.size(0)), input_ids] = 1\n",
    "embeddings = model.sentence_transformer.embeddings\n",
    "print(input_ids)\n",
    "print(one_hot.shape)\n",
    "seq_length = input_ids.size(0)\n",
    "position_ids = torch.arange(seq_length, dtype=torch.long, device=input_ids.device)  # (max_seq_length)\n",
    "position_ids = position_ids  # (max_seq_length)\n",
    "\n",
    "# word_embeddings = embeddings.word_embeddings(input_ids)  # (bs, max_seq_length, dim)\n",
    "word_embeddings = one_hot.matmul(embeddings.word_embeddings.weight)\n",
    "position_embeddings = embeddings.position_embeddings(position_ids)  # (bs, max_seq_length, dim)\n",
    "print(f\"position shape: {position_embeddings.shape}\")\n",
    "\n",
    "e = word_embeddings + position_embeddings  # (bs, max_seq_length, dim)\n",
    "e = embeddings.LayerNorm(e)  # (bs, max_seq_length, dim)\n",
    "e = embeddings.dropout(e)  # (bs, max_seq_length, dim)\n",
    "\n",
    "target_embed = embeddings(input_ids.unsqueeze(0))[0]\n",
    "print(e)\n",
    "print(torch.all(torch.eq(e, target_embed)))\n",
    "simulated_act = model.sentence_transformer(\n",
    "    attention_mask = tokenized.attention_mask,\n",
    "    inputs_embeds = e.unsqueeze(0)\n",
    ")\n",
    "semi_sim_act = model.sentence_transformer(\n",
    "    attention_mask = tokenized.attention_mask,\n",
    "    inputs_embeds = target_embed.unsqueeze(0)\n",
    ")\n",
    "target_act = model.sentence_transformer(\n",
    "    attention_mask = tokenized.attention_mask,\n",
    "    input_ids = input_ids.unsqueeze(0)\n",
    ")\n",
    "print(torch.all(torch.eq(simulated_act.last_hidden_state, semi_sim_act.last_hidden_state)))\n",
    "print(torch.all(torch.eq(semi_sim_act.last_hidden_state, target_act.last_hidden_state)))\n",
    "# print(semi_sim_act)\n",
    "# print(target_act)\n",
    "# print(embeddings.shape)\n",
    "# mask = tokenized.attention_mask\n",
    "# print(model.sentence_transformer.embeddings)"
   ]
  },
  {
   "cell_type": "code",
   "execution_count": 63,
   "metadata": {},
   "outputs": [
    {
     "data": {
      "text/plain": "tensor([9.9995e-01, 9.9966e-01, 9.9753e-01, 9.8201e-01, 8.8080e-01, 5.0000e-01,\n        1.1920e-01, 1.7986e-02, 2.4726e-03, 3.3535e-04])"
     },
     "execution_count": 63,
     "metadata": {},
     "output_type": "execute_result"
    }
   ],
   "source": [
    "i = torch.tensor(5)\n",
    "torch.sigmoid(-(torch.arange(10)-i)*2)"
   ]
  },
  {
   "cell_type": "code",
   "execution_count": 65,
   "metadata": {},
   "outputs": [
    {
     "name": "stdout",
     "output_type": "stream",
     "text": [
      "tensor([-0.6654,  1.1131, -0.1976,  0.9128,  0.1838,  0.1902, -0.4161,  1.1255,\n",
      "         0.2521,  0.1622])\n",
      "tensor([-0.6654,  1.1131, -0.1976,  0.9128,  0.1838,  0.1902, -0.4161,  1.1255,\n",
      "         0.2521,  0.1622])\n"
     ]
    }
   ],
   "source": [
    "input_ids = [0,5,3,4]\n",
    "mask = torch.tensor([[1,1,1,0]])\n",
    "\n",
    "onehot = model.ids_to_onehot(torch.tensor([input_ids]), vocab_size=30522)[0]\n",
    "print(model.forward(onehot, mask, is_onehot=True)[0][:10])\n",
    "print(model.forward(torch.tensor(input_ids), mask, is_onehot=False)[0][:10])\n",
    "# tensor([-0.6654,  1.1131, -0.1976,  0.9128,  0.1838,  0.1902, -0.4161,  1.1255,\n",
    "#          0.2521,  0.1622])\n",
    "# tensor([-0.6654,  1.1131, -0.1976,  0.9128,  0.1838,  0.1902, -0.4161,  1.1255,\n",
    "#          0.2521,  0.1622])"
   ]
  },
  {
   "cell_type": "code",
   "execution_count": 157,
   "metadata": {},
   "outputs": [
    {
     "name": "stdout",
     "output_type": "stream",
     "text": [
      "torch.Size([1, 3, 6])\n",
      "tensor([[[0., 0., 0., 0., 0., 0.],\n",
      "         [0., 0., 0., 0., 0., 0.],\n",
      "         [0., 0., 0., 0., 0., 0.]]])\n",
      "tensor([[0, 0]])\n",
      "tensor([[[1., 0., 0., 0., 0., 0.],\n",
      "         [0., 0., 0., 0., 0., 1.],\n",
      "         [0., 0., 0., 1., 0., 0.]]])\n"
     ]
    }
   ],
   "source": [
    "vocab_size = 6\n",
    "inputs = torch.tensor([\n",
    "    [0,5,3],\n",
    "    # [2,4]\n",
    "])\n",
    "one_hot = torch.zeros((inputs.shape)+(vocab_size,))\n",
    "print(one_hot.shape)\n",
    "print(one_hot)\n",
    "print(torch.arange(one_hot.shape[0]).unsqueeze(-1).repeat(1,2))\n",
    "# one_hot[:, torch.arange(inputs.size(1)), ]\n",
    "one_hot[\n",
    "    torch.arange(one_hot.size(0)).unsqueeze(-1).repeat(1,one_hot.size(1)),\n",
    "    torch.arange(one_hot.size(1)),\n",
    "    inputs] = 1\n",
    "\n",
    "print(one_hot)"
   ]
  }
 ],
 "metadata": {
  "kernelspec": {
   "display_name": "Python 3.8.6  ('.venv': venv)",
   "name": "pythonjvsc74a57bd064b05639d153cffc25231740a168d1c82569538952cc32e6f4539120173a9ef4"
  },
  "language_info": {
   "codemirror_mode": {
    "name": "ipython",
    "version": 3
   },
   "file_extension": ".py",
   "mimetype": "text/x-python",
   "name": "python",
   "nbconvert_exporter": "python",
   "pygments_lexer": "ipython3",
   "version": "3.8.6"
  },
  "metadata": {
   "interpreter": {
    "hash": "64b05639d153cffc25231740a168d1c82569538952cc32e6f4539120173a9ef4"
   }
  },
  "orig_nbformat": 2
 },
 "nbformat": 4,
 "nbformat_minor": 2
}